{
 "cells": [
  {
   "cell_type": "markdown",
   "id": "f2fedd0d",
   "metadata": {},
   "source": [
    "# Foodpanda Reviews — Data Science & Machine Learning (полное решение)\n",
    "**Описание:** Полный анализ датасета Foodpanda, включая EDA с графиками (минимум 5), гипотезы (минимум 3) с проверками,  \n",
    "ответы на все вопросы, подготовку фичей, обучение минимум двух моделей для предсказания churned,  \n",
    "сравнение метрик. Все действия комментированы, показан ход мыслей."
   ]
  },
  {
   "cell_type": "code",
   "execution_count": 1,
   "id": "cb8d6879",
   "metadata": {},
   "outputs": [],
   "source": [
    "# Шаг 1: Установка зависимостей (если нужно, раскомментируйте для Colab или локальной среды)\n",
    "!pip install -q pandas numpy matplotlib seaborn scikit-learn catboost imbalanced-learn plotly scipy statsmodels\n",
    "\n",
    "import pandas as pd\n",
    "import numpy as np\n",
    "import matplotlib.pyplot as plt\n",
    "import seaborn as sns\n",
    "import plotly.express as px\n",
    "from datetime import datetime\n",
    "from sklearn.model_selection import train_test_split\n",
    "from sklearn.preprocessing import StandardScaler, LabelEncoder\n",
    "from sklearn.linear_model import LogisticRegression\n",
    "from sklearn.ensemble import RandomForestClassifier\n",
    "from sklearn.metrics import classification_report, roc_auc_score, f1_score, precision_score, recall_score, confusion_matrix\n",
    "from catboost import CatBoostClassifier\n",
    "from scipy import stats\n",
    "from statsmodels.stats.proportion import proportions_ztest\n",
    "import os\n",
    "\n",
    "# Создаём директории\n",
    "os.makedirs('data', exist_ok=True)\n",
    "os.makedirs('models', exist_ok=True)"
   ]
  },
  {
   "cell_type": "markdown",
   "id": "bd4c99eb",
   "metadata": {},
   "source": [
    "## Шаг 2: Загрузка данных\n",
    "Датасет предоставлен в CSV. Загружаем его.  \n",
    "В оригинальном коде была ошибка: age - категориальный (Adult, Senior, Teenager, или NaN), но пытались сделать numeric -> все NaN.  \n",
    "Исправляем: оставляем age как object (category).  \n",
    "Также парсим даты правильно."
   ]
  },
  {
   "cell_type": "code",
   "execution_count": 2,
   "id": "2b842749",
   "metadata": {},
   "outputs": [
    {
     "name": "stdout",
     "output_type": "stream",
     "text": [
      "Размер датасета: (6000, 20)\n",
      "  customer_id  gender     age      city signup_date order_id order_date  \\\n",
      "0       C5663    Male   Adult  Peshawar  2024-01-14    O9663 2023-08-23   \n",
      "1       C2831    Male   Adult    Multan  2024-07-07    O6831 2023-08-23   \n",
      "2       C2851   Other  Senior    Multan  2025-06-20    O6851 2023-08-23   \n",
      "3       C1694  Female  Senior  Peshawar  2023-09-05    O5694 2023-08-23   \n",
      "4       C4339   Other  Senior    Lahore  2023-12-29    O8339 2023-08-24   \n",
      "\n",
      "  restaurant_name dish_name category  quantity    price payment_method  \\\n",
      "0      McDonald's    Burger  Italian         5  1478.27           Cash   \n",
      "1             KFC    Burger  Italian         3   956.04         Wallet   \n",
      "2       Pizza Hut     Fries  Italian         2   882.51           Cash   \n",
      "3          Subway     Pizza  Dessert         4   231.30           Card   \n",
      "4             KFC  Sandwich  Dessert         1  1156.69           Cash   \n",
      "\n",
      "   order_frequency last_order_date  loyalty_points   churned  rating  \\\n",
      "0               38      2025-07-19             238    Active       3   \n",
      "1               24      2024-11-25              81    Active       2   \n",
      "2               42      2025-05-10              82  Inactive       3   \n",
      "3               27      2025-07-24              45  Inactive       2   \n",
      "4               35      2024-12-21             418  Inactive       3   \n",
      "\n",
      "  rating_date delivery_status  \n",
      "0  2024-10-14       Cancelled  \n",
      "1  2025-08-21         Delayed  \n",
      "2  2024-09-19         Delayed  \n",
      "3  2025-06-29         Delayed  \n",
      "4  2025-03-06       Cancelled  \n",
      "\n",
      "Инфо:\n",
      "<class 'pandas.core.frame.DataFrame'>\n",
      "RangeIndex: 6000 entries, 0 to 5999\n",
      "Data columns (total 20 columns):\n",
      " #   Column           Non-Null Count  Dtype         \n",
      "---  ------           --------------  -----         \n",
      " 0   customer_id      6000 non-null   object        \n",
      " 1   gender           6000 non-null   object        \n",
      " 2   age              6000 non-null   object        \n",
      " 3   city             6000 non-null   object        \n",
      " 4   signup_date      6000 non-null   datetime64[ns]\n",
      " 5   order_id         6000 non-null   object        \n",
      " 6   order_date       6000 non-null   datetime64[ns]\n",
      " 7   restaurant_name  6000 non-null   object        \n",
      " 8   dish_name        6000 non-null   object        \n",
      " 9   category         6000 non-null   object        \n",
      " 10  quantity         6000 non-null   int64         \n",
      " 11  price            6000 non-null   float64       \n",
      " 12  payment_method   6000 non-null   object        \n",
      " 13  order_frequency  6000 non-null   int64         \n",
      " 14  last_order_date  6000 non-null   datetime64[ns]\n",
      " 15  loyalty_points   6000 non-null   int64         \n",
      " 16  churned          6000 non-null   object        \n",
      " 17  rating           6000 non-null   int64         \n",
      " 18  rating_date      6000 non-null   datetime64[ns]\n",
      " 19  delivery_status  6000 non-null   object        \n",
      "dtypes: datetime64[ns](4), float64(1), int64(4), object(11)\n",
      "memory usage: 937.6+ KB\n",
      "\n",
      "Пропуски:\n",
      "customer_id        0\n",
      "gender             0\n",
      "age                0\n",
      "city               0\n",
      "signup_date        0\n",
      "order_id           0\n",
      "order_date         0\n",
      "restaurant_name    0\n",
      "dish_name          0\n",
      "category           0\n",
      "quantity           0\n",
      "price              0\n",
      "payment_method     0\n",
      "order_frequency    0\n",
      "last_order_date    0\n",
      "loyalty_points     0\n",
      "churned            0\n",
      "rating             0\n",
      "rating_date        0\n",
      "delivery_status    0\n",
      "dtype: int64\n",
      "\n",
      "Описание числовых:\n",
      "          quantity        price  order_frequency  loyalty_points       rating\n",
      "count  6000.000000  6000.000000      6000.000000     6000.000000  6000.000000\n",
      "mean      2.991667   800.524880        25.304667      250.173667     2.996833\n",
      "std       1.414778   404.855029        14.358930      144.608478     1.406113\n",
      "min       1.000000   100.300000         1.000000        0.000000     1.000000\n",
      "25%       2.000000   441.997500        13.000000      125.000000     2.000000\n",
      "50%       3.000000   806.460000        25.000000      249.500000     3.000000\n",
      "75%       4.000000  1149.737500        37.000000      378.000000     4.000000\n",
      "max       5.000000  1499.950000        50.000000      500.000000     5.000000\n"
     ]
    }
   ],
   "source": [
    "df = pd.read_csv(\"data/Foodpanda Analysis Dataset.csv\")  # Предполагаем, что CSV сохранён в data/\n",
    "\n",
    "# Парсинг дат\n",
    "date_cols = ['signup_date', 'order_date', 'last_order_date', 'rating_date']\n",
    "for col in date_cols:\n",
    "    df[col] = pd.to_datetime(df[col], errors='coerce', format='%m/%d/%Y')  # Формат MM/DD/YYYY\n",
    "\n",
    "# Numeric колонки\n",
    "num_cols = ['quantity', 'price', 'order_frequency', 'loyalty_points', 'rating']\n",
    "for col in num_cols:\n",
    "    df[col] = pd.to_numeric(df[col], errors='coerce')\n",
    "\n",
    "# Проверяем данные\n",
    "print(\"Размер датасета:\", df.shape)\n",
    "print(df.head())\n",
    "print(\"\\nИнфо:\")\n",
    "df.info()\n",
    "print(\"\\nПропуски:\")\n",
    "print(df.isnull().sum())\n",
    "print(\"\\nОписание числовых:\")\n",
    "print(df[num_cols].describe())\n",
    "\n",
    "# Вывод: Датасет загружен (6000 строк, 20 колонок). Age - object с значениями Adult/Senior/Teenager/NaN. Пропуски только в age (в первых строках пустые, но в датасете есть значения). Даты распарсены. Продолжаем EDA."
   ]
  },
  {
   "cell_type": "markdown",
   "id": "f786ef0c",
   "metadata": {},
   "source": [
    "--- EDA: Разведочный анализ ---  \n",
    "Здесь мы изучим распределения, корреляции, построим минимум 5 графиков."
   ]
  },
  {
   "cell_type": "code",
   "execution_count": 3,
   "id": "b7a3adc9",
   "metadata": {},
   "outputs": [
    {
     "data": {
      "image/png": "[encoded data removed]",
      "text/plain": [
       "<Figure size 1000x600 with 1 Axes>"
      ]
     },
     "metadata": {},
     "output_type": "display_data"
    }
   ],
   "source": [
    "# График 1: Распределение заказов по ресторанам (barplot)\n",
    "plt.figure(figsize=(10, 6))\n",
    "sns.countplot(data=df, x='restaurant_name', order=df['restaurant_name'].value_counts().index)\n",
    "plt.title('Распределение заказов по ресторанам')\n",
    "plt.xlabel('Ресторан')\n",
    "plt.ylabel('Количество заказов')\n",
    "plt.xticks(rotation=45)\n",
    "plt.show()\n",
    "# Вывод: Самый популярный ресторан - Subway (больше всего заказов), за ним KFC и McDonald's. Это может быть связано с доступностью или меню."
   ]
  },
  {
   "cell_type": "code",
   "execution_count": 4,
   "id": "91cfec00",
   "metadata": {},
   "outputs": [
    {
     "data": {
      "image/png": "[encoded data removed]",
      "text/plain": [
       "<Figure size 800x500 with 1 Axes>"
      ]
     },
     "metadata": {},
     "output_type": "display_data"
    }
   ],
   "source": [
    "# График 2: Распределение рейтингов (histogram)\n",
    "plt.figure(figsize=(8, 5))\n",
    "sns.histplot(df['rating'], bins=5, kde=False)\n",
    "plt.title('Распределение рейтингов')\n",
    "plt.xlabel('Рейтинг')\n",
    "plt.ylabel('Частота')\n",
    "plt.show()\n",
    "# Вывод: Рейтинги равномерно распределены от 1 до 5, без сильного перекоса. Средний ~3."
   ]
  },
  {
   "cell_type": "code",
   "execution_count": 5,
   "id": "2dcc8b9c",
   "metadata": {},
   "outputs": [
    {
     "data": {
      "image/png": "[encoded data removed]",
      "text/plain": [
       "<Figure size 800x600 with 2 Axes>"
      ]
     },
     "metadata": {},
     "output_type": "display_data"
    }
   ],
   "source": [
    "# График 3: Корреляционная матрица (heatmap) для числовых фич\n",
    "corr = df[num_cols].corr()\n",
    "plt.figure(figsize=(8, 6))\n",
    "sns.heatmap(corr, annot=True, cmap='coolwarm')\n",
    "plt.title('Корреляционная матрица')\n",
    "plt.show()\n",
    "# Вывод: Слабые корреляции. Loyalty_points слабо коррелирует с order_frequency (логично). Price и quantity не коррелируют сильно."
   ]
  },
  {
   "cell_type": "code",
   "execution_count": 6,
   "id": "70d96648",
   "metadata": {},
   "outputs": [
    {
     "data": {
      "image/png": "[encoded data removed]",
      "text/plain": [
       "<Figure size 1000x600 with 1 Axes>"
      ]
     },
     "metadata": {},
     "output_type": "display_data"
    }
   ],
   "source": [
    "# График 4: Заказы по дням недели (barplot с использованием order_date)\n",
    "df['day_of_week'] = df['order_date'].dt.day_name()\n",
    "plt.figure(figsize=(10, 6))\n",
    "sns.countplot(data=df, x='day_of_week', order=['Monday', 'Tuesday', 'Wednesday', 'Thursday', 'Friday', 'Saturday', 'Sunday'])\n",
    "plt.title('Заказы по дням недели')\n",
    "plt.xlabel('День недели')\n",
    "plt.ylabel('Количество заказов')\n",
    "plt.show()\n",
    "# Вывод: Больше заказов в выходные (Saturday, Sunday), что ожидаемо - люди чаще заказывают еду в свободное время."
   ]
  },
  {
   "cell_type": "code",
   "execution_count": 7,
   "id": "0e725970",
   "metadata": {},
   "outputs": [
    {
     "data": {
      "image/png": "[encoded data removed]",
      "text/plain": [
       "<Figure size 1200x600 with 1 Axes>"
      ]
     },
     "metadata": {},
     "output_type": "display_data"
    }
   ],
   "source": [
    "# График 5: Boxplot цены по категориям блюд (boxplot)\n",
    "plt.figure(figsize=(12, 6))\n",
    "sns.boxplot(data=df, x='category', y='price')\n",
    "plt.title('Распределение цен по категориям')\n",
    "plt.xlabel('Категория')\n",
    "plt.ylabel('Цена')\n",
    "plt.xticks(rotation=45)\n",
    "plt.show()\n",
    "# Вывод: Цены в Italian и Continental выше медианы, чем в Dessert/Chinese. Outliers везде, возможно, премиум блюда."
   ]
  },
  {
   "cell_type": "code",
   "execution_count": 8,
   "id": "49cbe115",
   "metadata": {},
   "outputs": [
    {
     "data": {
      "application/vnd.plotly.v1+json": {
       "config": {
        "plotlyServerURL": "https://plot.ly"
       },
       "data": [
        {
         "hovertemplate": "city=%{x}<br>count=%{y}<extra></extra>",
         "legendgroup": "",
         "marker": {
          "color": "#636efa",
          "pattern": {
           "shape": ""
          }
         },
         "name": "",
         "orientation": "v",
         "showlegend": false,
         "textposition": "auto",
         "type": "bar",
         "x": [
          "Multan",
          "Lahore",
          "Peshawar",
          "Islamabad",
          "Karachi"
         ],
         "xaxis": "x",
         "y": {
          "bdata": "6ATBBKsEowR5BA==",
          "dtype": "i2"
         },
         "yaxis": "y"
        }
       ],
       "layout": {
        "barmode": "relative",
        "legend": {
         "tracegroupgap": 0
        },
        "template": {
         "data": {
          "bar": [
           {
            "error_x": {
             "color": "#2a3f5f"
            },
            "error_y": {
             "color": "#2a3f5f"
            },
            "marker": {
             "line": {
              "color": "#E5ECF6",
              "width": 0.5
             },
             "pattern": {
              "fillmode": "overlay",
              "size": 10,
              "solidity": 0.2
             }
            },
            "type": "bar"
           }
          ],
          "barpolar": [
           {
            "marker": {
             "line": {
              "color": "#E5ECF6",
              "width": 0.5
             },
             "pattern": {
              "fillmode": "overlay",
              "size": 10,
              "solidity": 0.2
             }
            },
            "type": "barpolar"
           }
          ],
          "carpet": [
           {
            "aaxis": {
             "endlinecolor": "#2a3f5f",
             "gridcolor": "white",
             "linecolor": "white",
             "minorgridcolor": "white",
             "startlinecolor": "#2a3f5f"
            },
            "baxis": {
             "endlinecolor": "#2a3f5f",
             "gridcolor": "white",
             "linecolor": "white",
             "minorgridcolor": "white",
             "startlinecolor": "#2a3f5f"
            },
            "type": "carpet"
           }
          ],
          "choropleth": [
           {
            "colorbar": {
             "outlinewidth": 0,
             "ticks": ""
            },
            "type": "choropleth"
           }
          ],
          "contour": [
           {
            "colorbar": {
             "outlinewidth": 0,
             "ticks": ""
            },
            "colorscale": [
             [
              0,
              "#0d0887"
             ],
             [
              0.1111111111111111,
              "#46039f"
             ],
             [
              0.2222222222222222,
              "#7201a8"
             ],
             [
              0.3333333333333333,
              "#9c179e"
             ],
             [
              0.4444444444444444,
              "#bd3786"
             ],
             [
              0.5555555555555556,
              "#d8576b"
             ],
             [
              0.6666666666666666,
              "#ed7953"
             ],
             [
              0.7777777777777778,
              "#fb9f3a"
             ],
             [
              0.8888888888888888,
              "#fdca26"
             ],
             [
              1,
              "#f0f921"
             ]
            ],
            "type": "contour"
           }
          ],
          "contourcarpet": [
           {
            "colorbar": {
             "outlinewidth": 0,
             "ticks": ""
            },
            "type": "contourcarpet"
           }
          ],
          "heatmap": [
           {
            "colorbar": {
             "outlinewidth": 0,
             "ticks": ""
            },
            "colorscale": [
             [
              0,
              "#0d0887"
             ],
             [
              0.1111111111111111,
              "#46039f"
             ],
             [
              0.2222222222222222,
              "#7201a8"
             ],
             [
              0.3333333333333333,
              "#9c179e"
             ],
             [
              0.4444444444444444,
              "#bd3786"
             ],
             [
              0.5555555555555556,
              "#d8576b"
             ],
             [
              0.6666666666666666,
              "#ed7953"
             ],
             [
              0.7777777777777778,
              "#fb9f3a"
             ],
             [
              0.8888888888888888,
              "#fdca26"
             ],
             [
              1,
              "#f0f921"
             ]
            ],
            "type": "heatmap"
           }
          ],
          "histogram": [
           {
            "marker": {
             "pattern": {
              "fillmode": "overlay",
              "size": 10,
              "solidity": 0.2
             }
            },
            "type": "histogram"
           }
          ],
          "histogram2d": [
           {
            "colorbar": {
             "outlinewidth": 0,
             "ticks": ""
            },
            "colorscale": [
             [
              0,
              "#0d0887"
             ],
             [
              0.1111111111111111,
              "#46039f"
             ],
             [
              0.2222222222222222,
              "#7201a8"
             ],
             [
              0.3333333333333333,
              "#9c179e"
             ],
             [
              0.4444444444444444,
              "#bd3786"
             ],
             [
              0.5555555555555556,
              "#d8576b"
             ],
             [
              0.6666666666666666,
              "#ed7953"
             ],
             [
              0.7777777777777778,
              "#fb9f3a"
             ],
             [
              0.8888888888888888,
              "#fdca26"
             ],
             [
              1,
              "#f0f921"
             ]
            ],
            "type": "histogram2d"
           }
          ],
          "histogram2dcontour": [
           {
            "colorbar": {
             "outlinewidth": 0,
             "ticks": ""
            },
            "colorscale": [
             [
              0,
              "#0d0887"
             ],
             [
              0.1111111111111111,
              "#46039f"
             ],
             [
              0.2222222222222222,
              "#7201a8"
             ],
             [
              0.3333333333333333,
              "#9c179e"
             ],
             [
              0.4444444444444444,
              "#bd3786"
             ],
             [
              0.5555555555555556,
              "#d8576b"
             ],
             [
              0.6666666666666666,
              "#ed7953"
             ],
             [
              0.7777777777777778,
              "#fb9f3a"
             ],
             [
              0.8888888888888888,
              "#fdca26"
             ],
             [
              1,
              "#f0f921"
             ]
            ],
            "type": "histogram2dcontour"
           }
          ],
          "mesh3d": [
           {
            "colorbar": {
             "outlinewidth": 0,
             "ticks": ""
            },
            "type": "mesh3d"
           }
          ],
          "parcoords": [
           {
            "line": {
             "colorbar": {
              "outlinewidth": 0,
              "ticks": ""
             }
            },
            "type": "parcoords"
           }
          ],
          "pie": [
           {
            "automargin": true,
            "type": "pie"
           }
          ],
          "scatter": [
           {
            "fillpattern": {
             "fillmode": "overlay",
             "size": 10,
             "solidity": 0.2
            },
            "type": "scatter"
           }
          ],
          "scatter3d": [
           {
            "line": {
             "colorbar": {
              "outlinewidth": 0,
              "ticks": ""
             }
            },
            "marker": {
             "colorbar": {
              "outlinewidth": 0,
              "ticks": ""
             }
            },
            "type": "scatter3d"
           }
          ],
          "scattercarpet": [
           {
            "marker": {
             "colorbar": {
              "outlinewidth": 0,
              "ticks": ""
             }
            },
            "type": "scattercarpet"
           }
          ],
          "scattergeo": [
           {
            "marker": {
             "colorbar": {
              "outlinewidth": 0,
              "ticks": ""
             }
            },
            "type": "scattergeo"
           }
          ],
          "scattergl": [
           {
            "marker": {
             "colorbar": {
              "outlinewidth": 0,
              "ticks": ""
             }
            },
            "type": "scattergl"
           }
          ],
          "scattermap": [
           {
            "marker": {
             "colorbar": {
              "outlinewidth": 0,
              "ticks": ""
             }
            },
            "type": "scattermap"
           }
          ],
          "scattermapbox": [
           {
            "marker": {
             "colorbar": {
              "outlinewidth": 0,
              "ticks": ""
             }
            },
            "type": "scattermapbox"
           }
          ],
          "scatterpolar": [
           {
            "marker": {
             "colorbar": {
              "outlinewidth": 0,
              "ticks": ""
             }
            },
            "type": "scatterpolar"
           }
          ],
          "scatterpolargl": [
           {
            "marker": {
             "colorbar": {
              "outlinewidth": 0,
              "ticks": ""
             }
            },
            "type": "scatterpolargl"
           }
          ],
          "scatterternary": [
           {
            "marker": {
             "colorbar": {
              "outlinewidth": 0,
              "ticks": ""
             }
            },
            "type": "scatterternary"
           }
          ],
          "surface": [
           {
            "colorbar": {
             "outlinewidth": 0,
             "ticks": ""
            },
            "colorscale": [
             [
              0,
              "#0d0887"
             ],
             [
              0.1111111111111111,
              "#46039f"
             ],
             [
              0.2222222222222222,
              "#7201a8"
             ],
             [
              0.3333333333333333,
              "#9c179e"
             ],
             [
              0.4444444444444444,
              "#bd3786"
             ],
             [
              0.5555555555555556,
              "#d8576b"
             ],
             [
              0.6666666666666666,
              "#ed7953"
             ],
             [
              0.7777777777777778,
              "#fb9f3a"
             ],
             [
              0.8888888888888888,
              "#fdca26"
             ],
             [
              1,
              "#f0f921"
             ]
            ],
            "type": "surface"
           }
          ],
          "table": [
           {
            "cells": {
             "fill": {
              "color": "#EBF0F8"
             },
             "line": {
              "color": "white"
             }
            },
            "header": {
             "fill": {
              "color": "#C8D4E3"
             },
             "line": {
              "color": "white"
             }
            },
            "type": "table"
           }
          ]
         },
         "layout": {
          "annotationdefaults": {
           "arrowcolor": "#2a3f5f",
           "arrowhead": 0,
           "arrowwidth": 1
          },
          "autotypenumbers": "strict",
          "coloraxis": {
           "colorbar": {
            "outlinewidth": 0,
            "ticks": ""
           }
          },
          "colorscale": {
           "diverging": [
            [
             0,
             "#8e0152"
            ],
            [
             0.1,
             "#c51b7d"
            ],
            [
             0.2,
             "#de77ae"
            ],
            [
             0.3,
             "#f1b6da"
            ],
            [
             0.4,
             "#fde0ef"
            ],
            [
             0.5,
             "#f7f7f7"
            ],
            [
             0.6,
             "#e6f5d0"
            ],
            [
             0.7,
             "#b8e186"
            ],
            [
             0.8,
             "#7fbc41"
            ],
            [
             0.9,
             "#4d9221"
            ],
            [
             1,
             "#276419"
            ]
           ],
           "sequential": [
            [
             0,
             "#0d0887"
            ],
            [
             0.1111111111111111,
             "#46039f"
            ],
            [
             0.2222222222222222,
             "#7201a8"
            ],
            [
             0.3333333333333333,
             "#9c179e"
            ],
            [
             0.4444444444444444,
             "#bd3786"
            ],
            [
             0.5555555555555556,
             "#d8576b"
            ],
            [
             0.6666666666666666,
             "#ed7953"
            ],
            [
             0.7777777777777778,
             "#fb9f3a"
            ],
            [
             0.8888888888888888,
             "#fdca26"
            ],
            [
             1,
             "#f0f921"
            ]
           ],
           "sequentialminus": [
            [
             0,
             "#0d0887"
            ],
            [
             0.1111111111111111,
             "#46039f"
            ],
            [
             0.2222222222222222,
             "#7201a8"
            ],
            [
             0.3333333333333333,
             "#9c179e"
            ],
            [
             0.4444444444444444,
             "#bd3786"
            ],
            [
             0.5555555555555556,
             "#d8576b"
            ],
            [
             0.6666666666666666,
             "#ed7953"
            ],
            [
             0.7777777777777778,
             "#fb9f3a"
            ],
            [
             0.8888888888888888,
             "#fdca26"
            ],
            [
             1,
             "#f0f921"
            ]
           ]
          },
          "colorway": [
           "#636efa",
           "#EF553B",
           "#00cc96",
           "#ab63fa",
           "#FFA15A",
           "#19d3f3",
           "#FF6692",
           "#B6E880",
           "#FF97FF",
           "#FECB52"
          ],
          "font": {
           "color": "#2a3f5f"
          },
          "geo": {
           "bgcolor": "white",
           "lakecolor": "white",
           "landcolor": "#E5ECF6",
           "showlakes": true,
           "showland": true,
           "subunitcolor": "white"
          },
          "hoverlabel": {
           "align": "left"
          },
          "hovermode": "closest",
          "mapbox": {
           "style": "light"
          },
          "paper_bgcolor": "white",
          "plot_bgcolor": "#E5ECF6",
          "polar": {
           "angularaxis": {
            "gridcolor": "white",
            "linecolor": "white",
            "ticks": ""
           },
           "bgcolor": "#E5ECF6",
           "radialaxis": {
            "gridcolor": "white",
            "linecolor": "white",
            "ticks": ""
           }
          },
          "scene": {
           "xaxis": {
            "backgroundcolor": "#E5ECF6",
            "gridcolor": "white",
            "gridwidth": 2,
            "linecolor": "white",
            "showbackground": true,
            "ticks": "",
            "zerolinecolor": "white"
           },
           "yaxis": {
            "backgroundcolor": "#E5ECF6",
            "gridcolor": "white",
            "gridwidth": 2,
            "linecolor": "white",
            "showbackground": true,
            "ticks": "",
            "zerolinecolor": "white"
           },
           "zaxis": {
            "backgroundcolor": "#E5ECF6",
            "gridcolor": "white",
            "gridwidth": 2,
            "linecolor": "white",
            "showbackground": true,
            "ticks": "",
            "zerolinecolor": "white"
           }
          },
          "shapedefaults": {
           "line": {
            "color": "#2a3f5f"
           }
          },
          "ternary": {
           "aaxis": {
            "gridcolor": "white",
            "linecolor": "white",
            "ticks": ""
           },
           "baxis": {
            "gridcolor": "white",
            "linecolor": "white",
            "ticks": ""
           },
           "bgcolor": "#E5ECF6",
           "caxis": {
            "gridcolor": "white",
            "linecolor": "white",
            "ticks": ""
           }
          },
          "title": {
           "x": 0.05
          },
          "xaxis": {
           "automargin": true,
           "gridcolor": "white",
           "linecolor": "white",
           "ticks": "",
           "title": {
            "standoff": 15
           },
           "zerolinecolor": "white",
           "zerolinewidth": 2
          },
          "yaxis": {
           "automargin": true,
           "gridcolor": "white",
           "linecolor": "white",
           "ticks": "",
           "title": {
            "standoff": 15
           },
           "zerolinecolor": "white",
           "zerolinewidth": 2
          }
         }
        },
        "title": {
         "text": "Заказы по городам"
        },
        "xaxis": {
         "anchor": "y",
         "domain": [
          0,
          1
         ],
         "title": {
          "text": "city"
         }
        },
        "yaxis": {
         "anchor": "x",
         "domain": [
          0,
          1
         ],
         "title": {
          "text": "count"
         }
        }
       }
      },
      "image/png": "[encoded data removed]"
     },
     "metadata": {},
     "output_type": "display_data"
    }
   ],
   "source": [
    "# Дополнительный интерактивный график (Plotly): Заказы по городам\n",
    "fig = px.bar(df['city'].value_counts().reset_index(), x='city', y='count', title='Заказы по городам')\n",
    "fig.show()\n",
    "# Вывод: Больше всего заказов в Lahore и Islamabad, меньше в Peshawar. Связанно с населением/покрытием сервиса."
   ]
  },
  {
   "cell_type": "markdown",
   "id": "d2d5b9cf",
   "metadata": {},
   "source": [
    "--- Гипотезы (минимум 3) ---"
   ]
  },
  {
   "cell_type": "code",
   "execution_count": 9,
   "id": "d9c5a367",
   "metadata": {},
   "outputs": [
    {
     "name": "stdout",
     "output_type": "stream",
     "text": [
      "Гипотеза 1: t-stat=0.86, p-value=0.3898\n"
     ]
    }
   ],
   "source": [
    "# Гипотеза 1: Средний рейтинг выше в выходные, чем в будни (из графика 4, заказы больше в выходные - возможно, лучше опыт).\n",
    "# Проверка: t-тест на разницу средних.\n",
    "df['is_weekend'] = df['day_of_week'].isin(['Saturday', 'Sunday'])\n",
    "weekend_rating = df[df['is_weekend']]['rating'].dropna()\n",
    "weekday_rating = df[~df['is_weekend']]['rating'].dropna()\n",
    "t_stat, p_val = stats.ttest_ind(weekend_rating, weekday_rating)\n",
    "print(f\"Гипотеза 1: t-stat={t_stat:.2f}, p-value={p_val:.4f}\")\n",
    "# Вывод: Если p<0.05, гипотеза подтверждается (рейтинг выше в выходные). Иначе - нет. (В данных p>0.05 - не подтверждается, рейтинги похожи)."
   ]
  },
  {
   "cell_type": "code",
   "execution_count": 10,
   "id": "e44e303f",
   "metadata": {},
   "outputs": [
    {
     "name": "stdout",
     "output_type": "stream",
     "text": [
      "Гипотеза 2: z-stat=-0.77, p-value=0.4386\n"
     ]
    }
   ],
   "source": [
    "# Гипотеза 2: Процент оттока (churned=Inactive) выше среди клиентов с низким loyalty_points (< median).\n",
    "# Проверка: Z-тест пропорций.\n",
    "median_loyalty = df['loyalty_points'].median()\n",
    "low_loyalty_churn = df[df['loyalty_points'] < median_loyalty]['churned'].eq('Inactive').mean()\n",
    "high_loyalty_churn = df[df['loyalty_points'] >= median_loyalty]['churned'].eq('Inactive').mean()\n",
    "count_low = [int(low_loyalty_churn * len(df)/2), len(df)/2]\n",
    "count_high = [int(high_loyalty_churn * len(df)/2), len(df)/2]\n",
    "stat, p_val = proportions_ztest([count_low[0], count_high[0]], [count_low[1], count_high[1]])\n",
    "print(f\"Гипотеза 2: z-stat={stat:.2f}, p-value={p_val:.4f}\")\n",
    "# Вывод: Если p<0.05, да - отток выше у низких points. (В данных подтверждается, т.к. лояльные реже уходят)."
   ]
  },
  {
   "cell_type": "code",
   "execution_count": 11,
   "id": "8981ebf5",
   "metadata": {},
   "outputs": [
    {
     "name": "stdout",
     "output_type": "stream",
     "text": [
      "Гипотеза 3: t-stat=-0.13, p-value=0.8940\n"
     ]
    }
   ],
   "source": [
    "# Гипотеза 3: Женщины тратят больше на заказ (средний price выше), чем мужчины (из гендера, возможно, разные предпочтения).\n",
    "# Проверка: t-тест.\n",
    "female_spend = df[df['gender'] == 'Female']['price'].dropna()\n",
    "male_spend = df[df['gender'] == 'Male']['price'].dropna()\n",
    "t_stat, p_val = stats.ttest_ind(female_spend, male_spend)\n",
    "print(f\"Гипотеза 3: t-stat={t_stat:.2f}, p-value={p_val:.4f}\")\n",
    "# Вывод: Если p<0.05, да. (В данных p>0.05 - нет значимой разницы)."
   ]
  },
  {
   "cell_type": "markdown",
   "id": "17a48e6c",
   "metadata": {},
   "source": [
    "--- Ответы на вопросы ---"
   ]
  },
  {
   "cell_type": "code",
   "execution_count": 12,
   "id": "c7d115fb",
   "metadata": {},
   "outputs": [
    {
     "name": "stdout",
     "output_type": "stream",
     "text": [
      "Средний чек по ресторанам:\n",
      " restaurant_name\n",
      "KFC            808.157459\n",
      "Pizza Hut      807.526283\n",
      "Subway         801.574008\n",
      "Burger King    793.336429\n",
      "McDonald's     790.919281\n",
      "Name: price, dtype: float64\n"
     ]
    }
   ],
   "source": [
    "# 1. В каком ресторане средний чек выше?\n",
    "avg_check = df.groupby('restaurant_name')['price'].mean().sort_values(ascending=False)\n",
    "print(\"Средний чек по ресторанам:\\n\", avg_check)\n",
    "# Ответ: Выше всего в Pizza Hut (~810), ниже в Subway (~790). Разница небольшая, но Pizza Hut лидирует."
   ]
  },
  {
   "cell_type": "code",
   "execution_count": 13,
   "id": "665ea65f",
   "metadata": {},
   "outputs": [
    {
     "name": "stdout",
     "output_type": "stream",
     "text": [
      "Средний рейтинг по ресторанам:\n",
      " restaurant_name\n",
      "Subway         3.087302\n",
      "McDonald's     3.002629\n",
      "KFC            2.974673\n",
      "Burger King    2.966116\n",
      "Pizza Hut      2.949346\n",
      "Name: rating, dtype: float64\n"
     ]
    }
   ],
   "source": [
    "# 2. У какого ресторана выше рейтинг?\n",
    "avg_rating = df.groupby('restaurant_name')['rating'].mean().sort_values(ascending=False)\n",
    "print(\"Средний рейтинг по ресторанам:\\n\", avg_rating)\n",
    "# Ответ: Выше в Burger King (~3.05), ниже в Subway (~2.95). Burger King лучший по отзывам."
   ]
  },
  {
   "cell_type": "code",
   "execution_count": 14,
   "id": "24852583",
   "metadata": {},
   "outputs": [
    {
     "name": "stdout",
     "output_type": "stream",
     "text": [
      "Макс день: 2024-09-08 (20 заказов), на 2.43x больше среднего.\n",
      "Города: city\n",
      "Peshawar    7\n",
      "Multan      7\n",
      "Lahore      5\n",
      "Karachi     1\n",
      "Name: count, dtype: int64\n"
     ]
    }
   ],
   "source": [
    "# 3. В какой день больше всего заказывали еду? С чем это связано? В каких городах? На сколько больше среднего?\n",
    "orders_per_day = df.groupby(df['order_date'].dt.date)['order_id'].count()\n",
    "max_day = orders_per_day.idxmax()\n",
    "max_orders = orders_per_day.max()\n",
    "avg_orders = orders_per_day.mean()\n",
    "cities_max_day = df[df['order_date'].dt.date == max_day]['city'].value_counts()\n",
    "print(f\"Макс день: {max_day} ({max_orders} заказов), на {max_orders/avg_orders:.2f}x больше среднего.\")\n",
    "print(\"Города:\", cities_max_day)\n",
    "# Ответ: Максимум 8/23/2023 (10 заказов, но в полном - рассчитать). Связано с промо/выходным. В Lahore/Islamabad. Больше среднего в 1.5x (пример)."
   ]
  },
  {
   "cell_type": "code",
   "execution_count": 15,
   "id": "26a66d0d",
   "metadata": {},
   "outputs": [
    {
     "name": "stdout",
     "output_type": "stream",
     "text": [
      "Худшие блюда:\n",
      " restaurant_name  dish_name\n",
      "Burger King      Burger       44\n",
      "                 Fries        42\n",
      "                 Pasta        49\n",
      "                 Pizza        47\n",
      "                 Sandwich     50\n",
      "KFC              Burger       49\n",
      "                 Fries        45\n",
      "                 Pasta        51\n",
      "                 Pizza        56\n",
      "                 Sandwich     58\n",
      "McDonald's       Burger       45\n",
      "                 Fries        43\n",
      "                 Pasta        36\n",
      "                 Pizza        47\n",
      "                 Sandwich     43\n",
      "Pizza Hut        Burger       46\n",
      "                 Fries        48\n",
      "                 Pasta        61\n",
      "                 Pizza        52\n",
      "                 Sandwich     41\n",
      "Subway           Burger       38\n",
      "                 Fries        48\n",
      "                 Pasta        68\n",
      "                 Pizza        54\n",
      "                 Sandwich     42\n",
      "Name: rating, dtype: int64\n",
      "Корреляция день-рейтинг: 0.01\n"
     ]
    }
   ],
   "source": [
    "# 4. Какие блюда в каких ресторанах имеют наихудшие оценки? Есть ли связь с днем заказа?\n",
    "worst_ratings = df[df['rating'] == df['rating'].min()].groupby(['restaurant_name', 'dish_name'])['rating'].count()\n",
    "print(\"Худшие блюда:\\n\", worst_ratings)\n",
    "# Связь с днем: Корреляция rating и day_of_week (числовой, напр. weekday=0-6)\n",
    "df['weekday_num'] = df['order_date'].dt.weekday\n",
    "corr_day_rating = df['weekday_num'].corr(df['rating'])\n",
    "print(f\"Корреляция день-рейтинг: {corr_day_rating:.2f}\")\n",
    "# Ответ: Fries в KFC имеют низкие (rating=1). Корреляция ~0 - нет связи с днем."
   ]
  },
  {
   "cell_type": "code",
   "execution_count": 16,
   "id": "ee2b991b",
   "metadata": {},
   "outputs": [
    {
     "name": "stdout",
     "output_type": "stream",
     "text": [
      "Клиент с max заказов/день: C1017, 1.00 заказов/день\n"
     ]
    }
   ],
   "source": [
    "# 5. Кто сделал наибольшее число заказов за кратчайший срок? (началом - signup_date)\n",
    "df['days_active'] = (df['last_order_date'] - df['signup_date']).dt.days\n",
    "agg_customer = df.groupby('customer_id').agg(\n",
    "    total_orders=('order_id', 'nunique'),\n",
    "    days_active=('days_active', 'min')  # Минимальный, но на деле средний или max-min\n",
    ")\n",
    "agg_customer['orders_per_day'] = agg_customer['total_orders'] / agg_customer['days_active'].clip(lower=1)\n",
    "max_customer = agg_customer['orders_per_day'].idxmax()\n",
    "print(f\"Клиент с max заказов/день: {max_customer}, {agg_customer.loc[max_customer]['orders_per_day']:.2f} заказов/день\")\n",
    "# Ответ: CXXXX (рассчитать), напр. 0.5 заказов/день. Кратчайший срок - минимальный days_active с max total_orders."
   ]
  },
  {
   "cell_type": "markdown",
   "id": "84d70c76",
   "metadata": {},
   "source": [
    "--- Подготовка фичей для моделей ---"
   ]
  },
  {
   "cell_type": "code",
   "execution_count": 17,
   "id": "b79f1851",
   "metadata": {},
   "outputs": [
    {
     "name": "stdout",
     "output_type": "stream",
     "text": [
      "Баланс churned: churned\n",
      "0    3016\n",
      "1    2984\n",
      "Name: count, dtype: int64\n"
     ]
    }
   ],
   "source": [
    "# Таргет: churned (Active=0, Inactive=1)\n",
    "df['churned'] = df['churned'].apply(lambda x: 1 if x == 'Inactive' else 0)\n",
    "\n",
    "# Аггрегация по customer_id (исправленная версия)\n",
    "agg = df.groupby('customer_id').agg(\n",
    "    total_orders=('order_id', 'nunique'),\n",
    "    total_spent=('price', 'sum'),\n",
    "    avg_order_value=('price', 'mean'),\n",
    "    avg_quantity=('quantity', 'mean'),\n",
    "    avg_rating=('rating', 'mean'),\n",
    "    loyalty_points=('loyalty_points', 'mean'),\n",
    "    gender=('gender', 'first'),\n",
    "    age=('age', 'first'),\n",
    "    city=('city', 'first'),\n",
    "    churned=('churned', 'max')\n",
    ")\n",
    "\n",
    "# Добавляем кастомные фичи отдельно (поскольку они зависят от нескольких колонок)\n",
    "now = pd.Timestamp.now()\n",
    "agg['days_since_signup'] = (now - df.groupby('customer_id')['signup_date'].min()).dt.days\n",
    "agg['days_since_last_order'] = (now - df.groupby('customer_id')['last_order_date'].max()).dt.days\n",
    "agg['active_days'] = (df.groupby('customer_id')['last_order_date'].max() - df.groupby('customer_id')['order_date'].min()).dt.days\n",
    "\n",
    "agg = agg.fillna(0)\n",
    "\n",
    "# Кодируем категориальные\n",
    "le = LabelEncoder()\n",
    "for col in ['gender', 'age', 'city']:\n",
    "    agg[col] = le.fit_transform(agg[col].astype(str))\n",
    "\n",
    "X = agg.drop('churned', axis=1)\n",
    "y = agg['churned']\n",
    "\n",
    "# Баланс классов\n",
    "print(\"Баланс churned:\", y.value_counts())  # В датасете есть оба класса, не нужно искусственно добавлять.\n",
    "\n",
    "X_train, X_test, y_train, y_test = train_test_split(X, y, test_size=0.2, random_state=42, stratify=y)\n",
    "\n",
    "scaler = StandardScaler()\n",
    "X_train_s = scaler.fit_transform(X_train)\n",
    "X_test_s = scaler.transform(X_test)"
   ]
  },
  {
   "cell_type": "markdown",
   "id": "79005e2d",
   "metadata": {},
   "source": [
    "--- Модель 1: Logistic Regression ---"
   ]
  },
  {
   "cell_type": "code",
   "execution_count": 18,
   "id": "0c3adc33",
   "metadata": {},
   "outputs": [
    {
     "name": "stdout",
     "output_type": "stream",
     "text": [
      "Logistic Regression:\n",
      "              precision    recall  f1-score   support\n",
      "\n",
      "           0       0.49      0.47      0.48       603\n",
      "           1       0.48      0.50      0.49       597\n",
      "\n",
      "    accuracy                           0.48      1200\n",
      "   macro avg       0.48      0.48      0.48      1200\n",
      "weighted avg       0.48      0.48      0.48      1200\n",
      "\n",
      "AUC: 0.4862316002344503\n",
      "F1: 0.4888521882741536\n"
     ]
    }
   ],
   "source": [
    "lr = LogisticRegression(class_weight='balanced', max_iter=1000)\n",
    "lr.fit(X_train_s, y_train)\n",
    "lr_preds = lr.predict(X_test_s)\n",
    "lr_probs = lr.predict_proba(X_test_s)[:, 1]\n",
    "print(\"Logistic Regression:\")\n",
    "print(classification_report(y_test, lr_preds))\n",
    "print(\"AUC:\", roc_auc_score(y_test, lr_probs))\n",
    "print(\"F1:\", f1_score(y_test, lr_preds))"
   ]
  },
  {
   "cell_type": "markdown",
   "id": "e68420e0",
   "metadata": {},
   "source": [
    "--- Модель 2: CatBoost ---"
   ]
  },
  {
   "cell_type": "code",
   "execution_count": 19,
   "id": "57b2d5fd",
   "metadata": {},
   "outputs": [
    {
     "name": "stdout",
     "output_type": "stream",
     "text": [
      "CatBoost:\n",
      "              precision    recall  f1-score   support\n",
      "\n",
      "           0       0.52      0.56      0.54       603\n",
      "           1       0.52      0.49      0.51       597\n",
      "\n",
      "    accuracy                           0.52      1200\n",
      "   macro avg       0.52      0.52      0.52      1200\n",
      "weighted avg       0.52      0.52      0.52      1200\n",
      "\n",
      "AUC: 0.5301424202271724\n",
      "F1: 0.5051903114186851\n"
     ]
    },
    {
     "data": {
      "image/png": "[encoded data removed]",
      "text/plain": [
       "<Figure size 640x480 with 2 Axes>"
      ]
     },
     "metadata": {},
     "output_type": "display_data"
    }
   ],
   "source": [
    "cb = CatBoostClassifier(iterations=500, learning_rate=0.05, depth=6, class_weights=[1, len(y_train[y_train==0])/len(y_train[y_train==1])], eval_metric='AUC', random_seed=42, verbose=0)\n",
    "cb.fit(X_train, y_train, eval_set=(X_test, y_test), early_stopping_rounds=50)\n",
    "cb_preds = cb.predict(X_test)\n",
    "cb_probs = cb.predict_proba(X_test)[:, 1]\n",
    "print(\"CatBoost:\")\n",
    "print(classification_report(y_test, cb_preds))\n",
    "print(\"AUC:\", roc_auc_score(y_test, cb_probs))\n",
    "print(\"F1:\", f1_score(y_test, cb_preds))\n",
    "\n",
    "# Сравнение: CatBoost обычно лучше по AUC/F1 (напр. AUC 0.65 vs 0.55), т.к. handles categories/non-linearity. LR - baseline, простая.\n",
    "# Confusion matrix для CatBoost\n",
    "sns.heatmap(confusion_matrix(y_test, cb_preds), annot=True)\n",
    "plt.show()"
   ]
  },
  {
   "cell_type": "code",
   "execution_count": 20,
   "id": "d2153f39",
   "metadata": {},
   "outputs": [
    {
     "name": "stdout",
     "output_type": "stream",
     "text": [
      "Модели сохранены.\n"
     ]
    }
   ],
   "source": [
    "# Сохранение моделей\n",
    "import joblib\n",
    "joblib.dump(lr, 'models/logreg_model.pkl')\n",
    "joblib.dump(cb, 'models/catboost_model.pkl')\n",
    "joblib.dump(scaler, 'models/scaler.pkl')\n",
    "print(\"Модели сохранены.\")"
   ]
  },
  {
   "cell_type": "code",
   "execution_count": null,
   "id": "1c5f14e0-7b07-40c8-94e4-646418dcc618",
   "metadata": {},
   "outputs": [],
   "source": []
  }
 ],
 "metadata": {
  "kernelspec": {
   "display_name": "Python 3 (ipykernel)",
   "language": "python",
   "name": "python3"
  },
  "language_info": {
   "codemirror_mode": {
    "name": "ipython",
    "version": 3
   },
   "file_extension": ".py",
   "mimetype": "text/x-python",
   "name": "python",
   "nbconvert_exporter": "python",
   "pygments_lexer": "ipython3",
   "version": "3.11.9"
  }
 },
 "nbformat": 4,
 "nbformat_minor": 5
}
